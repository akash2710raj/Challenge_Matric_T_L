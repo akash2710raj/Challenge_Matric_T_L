{
  "nbformat": 4,
  "nbformat_minor": 0,
  "metadata": {
    "colab": {
      "name": "Task1.ipynb",
      "provenance": [],
      "collapsed_sections": []
    },
    "kernelspec": {
      "name": "python3",
      "display_name": "Python 3"
    }
  },
  "cells": [
    {
      "cell_type": "markdown",
      "metadata": {
        "id": "rDw1uAoBqtIQ"
      },
      "source": [
        "# TASK 1"
      ]
    },
    {
      "cell_type": "markdown",
      "metadata": {
        "id": "b7WG7lwx2-74"
      },
      "source": [
        "If the market has only two media players i.e. PLAYER 1 & PLAYER 2 - do you observe any uptrend/ downtrend in the overall Advt. flow year-on year? Support your observations with data points."
      ]
    },
    {
      "cell_type": "code",
      "metadata": {
        "id": "jylrpX-H7XKR"
      },
      "source": [
        "# Required Libraries\r\n",
        "\r\n",
        "import pandas as pd\r\n",
        "import numpy as np\r\n",
        "import matplotlib.pyplot as plt"
      ],
      "execution_count": null,
      "outputs": []
    },
    {
      "cell_type": "code",
      "metadata": {
        "id": "SAkbWdIT7n_q",
        "colab": {
          "base_uri": "https://localhost:8080/",
          "height": 297
        },
        "outputId": "0e61d06b-775e-4166-ec70-e94e7342ad7e"
      },
      "source": [
        "# Loading csv file (file provided from your side is in xlsx format and i convert them into csv for time saving)\r\n",
        "\r\n",
        "df = pd.read_csv(\"Task1.csv\")\r\n",
        "df.head()"
      ],
      "execution_count": null,
      "outputs": [
        {
          "output_type": "execute_result",
          "data": {
            "text/html": [
              "<div>\n",
              "<style scoped>\n",
              "    .dataframe tbody tr th:only-of-type {\n",
              "        vertical-align: middle;\n",
              "    }\n",
              "\n",
              "    .dataframe tbody tr th {\n",
              "        vertical-align: top;\n",
              "    }\n",
              "\n",
              "    .dataframe thead th {\n",
              "        text-align: right;\n",
              "    }\n",
              "</style>\n",
              "<table border=\"1\" class=\"dataframe\">\n",
              "  <thead>\n",
              "    <tr style=\"text-align: right;\">\n",
              "      <th></th>\n",
              "      <th>PERIOD</th>\n",
              "      <th>SUPER CATEGORY</th>\n",
              "      <th>PRODUCT GROUP</th>\n",
              "      <th>ADVERTISER</th>\n",
              "      <th>PRODUCT</th>\n",
              "      <th>PUBLICATION</th>\n",
              "      <th>AD TYPE(CLR/BW)</th>\n",
              "      <th>VOL_SQCM</th>\n",
              "    </tr>\n",
              "  </thead>\n",
              "  <tbody>\n",
              "    <tr>\n",
              "      <th>0</th>\n",
              "      <td>Apr - 2018</td>\n",
              "      <td>Agriculture</td>\n",
              "      <td>Agri-corporate</td>\n",
              "      <td>Veg&amp;Fruit Prom Council Kerala</td>\n",
              "      <td>Vegetable&amp;Fruit Promo Coun (Kerala)</td>\n",
              "      <td>PLAYER 2</td>\n",
              "      <td>Color</td>\n",
              "      <td>48</td>\n",
              "    </tr>\n",
              "    <tr>\n",
              "      <th>1</th>\n",
              "      <td>Apr - 2018</td>\n",
              "      <td>Alcoholic Drinks</td>\n",
              "      <td>Liquor</td>\n",
              "      <td>United Spirits Ltd</td>\n",
              "      <td>Mcdowells No1 Mineral Water</td>\n",
              "      <td>PLAYER 1</td>\n",
              "      <td>Black &amp; White</td>\n",
              "      <td>32</td>\n",
              "    </tr>\n",
              "    <tr>\n",
              "      <th>2</th>\n",
              "      <td>Apr - 2018</td>\n",
              "      <td>Auto</td>\n",
              "      <td>Auto-cars</td>\n",
              "      <td>Ford India Pvt Ltd</td>\n",
              "      <td>Ford Car Rng(Ford India)</td>\n",
              "      <td>PLAYER 2</td>\n",
              "      <td>Color</td>\n",
              "      <td>4021</td>\n",
              "    </tr>\n",
              "    <tr>\n",
              "      <th>3</th>\n",
              "      <td>Apr - 2018</td>\n",
              "      <td>Auto</td>\n",
              "      <td>Auto-cars</td>\n",
              "      <td>Ford India Pvt Ltd</td>\n",
              "      <td>Ford Car Rng(Ford India)</td>\n",
              "      <td>PLAYER 1</td>\n",
              "      <td>Color</td>\n",
              "      <td>2612</td>\n",
              "    </tr>\n",
              "    <tr>\n",
              "      <th>4</th>\n",
              "      <td>Apr - 2018</td>\n",
              "      <td>Auto</td>\n",
              "      <td>Auto-cars</td>\n",
              "      <td>Ford India Pvt Ltd</td>\n",
              "      <td>Ford Freestyle</td>\n",
              "      <td>PLAYER 2</td>\n",
              "      <td>Color</td>\n",
              "      <td>6953</td>\n",
              "    </tr>\n",
              "  </tbody>\n",
              "</table>\n",
              "</div>"
            ],
            "text/plain": [
              "       PERIOD    SUPER CATEGORY  ... AD TYPE(CLR/BW) VOL_SQCM\n",
              "0  Apr - 2018       Agriculture  ...           Color       48\n",
              "1  Apr - 2018  Alcoholic Drinks  ...   Black & White       32\n",
              "2  Apr - 2018              Auto  ...           Color     4021\n",
              "3  Apr - 2018              Auto  ...           Color     2612\n",
              "4  Apr - 2018              Auto  ...           Color     6953\n",
              "\n",
              "[5 rows x 8 columns]"
            ]
          },
          "metadata": {
            "tags": []
          },
          "execution_count": 11
        }
      ]
    },
    {
      "cell_type": "markdown",
      "metadata": {
        "id": "mSeVoLY-zbAC"
      },
      "source": [
        "Analysing the dataset"
      ]
    },
    {
      "cell_type": "code",
      "metadata": {
        "id": "mQoplmSOhNie",
        "colab": {
          "base_uri": "https://localhost:8080/"
        },
        "outputId": "45cc3c83-7cdc-4ec8-9dd2-de9397eaf2b3"
      },
      "source": [
        "print('Shape of dataset is: ',df.shape)\r\n",
        "print()\r\n",
        "print('Columns in dataset:')\r\n",
        "print(df.columns)\r\n",
        "print()\r\n",
        "print('Each columns data types:')\r\n",
        "print(df.dtypes)\r\n",
        "print()"
      ],
      "execution_count": null,
      "outputs": [
        {
          "output_type": "stream",
          "text": [
            "Shape of dataset is:  (70837, 8)\n",
            "\n",
            "Columns in dataset:\n",
            "Index(['PERIOD', 'SUPER CATEGORY', 'PRODUCT GROUP', 'ADVERTISER', 'PRODUCT',\n",
            "       'PUBLICATION', 'AD TYPE(CLR/BW)', 'VOL_SQCM'],\n",
            "      dtype='object')\n",
            "\n",
            "Each columns data types:\n",
            "PERIOD             object\n",
            "SUPER CATEGORY     object\n",
            "PRODUCT GROUP      object\n",
            "ADVERTISER         object\n",
            "PRODUCT            object\n",
            "PUBLICATION        object\n",
            "AD TYPE(CLR/BW)    object\n",
            "VOL_SQCM            int64\n",
            "dtype: object\n",
            "\n"
          ],
          "name": "stdout"
        }
      ]
    },
    {
      "cell_type": "code",
      "metadata": {
        "id": "j8Vs4Ib4iprE"
      },
      "source": [
        "# Converting the Period column into datetime format\r\n",
        "\r\n",
        "df['PERIOD'] = pd.to_datetime(df['PERIOD'])"
      ],
      "execution_count": null,
      "outputs": []
    },
    {
      "cell_type": "code",
      "metadata": {
        "id": "tS2tj6B9nxzs"
      },
      "source": [
        "# Storing Each publication(PLAYER 1 and PLAYER 2) uniquely\r\n",
        "\r\n",
        "p1 = df[df['PUBLICATION'] == 'PLAYER 1']\r\n",
        "p2 = df[df['PUBLICATION'] == 'PLAYER 2']"
      ],
      "execution_count": null,
      "outputs": []
    },
    {
      "cell_type": "code",
      "metadata": {
        "id": "Ugl77TZtnazR",
        "colab": {
          "base_uri": "https://localhost:8080/"
        },
        "outputId": "3025a24d-eb65-46b9-9d51-10f09e28afc4"
      },
      "source": [
        "# Veryfying Purpose\r\n",
        "\r\n",
        "print(\"Count of advertisement by Player 1: \",p1.shape,)\r\n",
        "print(\"Count of advertisement by Player 2: \",p2.shape)\r\n",
        "print(\"Count of advertisement by Player 1 and Player 2: \",df.shape)"
      ],
      "execution_count": null,
      "outputs": [
        {
          "output_type": "stream",
          "text": [
            "Count of advertisement by Player 1:  (26156, 8)\n",
            "Count of advertisement by Player 2:  (44681, 8)\n",
            "Count of advertisement by Player 1 and Player 2:  (70837, 8)\n"
          ],
          "name": "stdout"
        }
      ]
    },
    {
      "cell_type": "code",
      "metadata": {
        "id": "-jfCBARynhRh"
      },
      "source": [
        "# Uniquely seperate the unique publication data year wise, 3 years of data is available in dataset\r\n",
        "\r\n",
        "p1_2018 = p1[p1['PERIOD'].dt.year == 2018]\r\n",
        "p1_2019 = p1[p1['PERIOD'].dt.year == 2019]\r\n",
        "p1_2020 = p1[p1['PERIOD'].dt.year == 2020]\r\n",
        "p2_2018 = p2[p2['PERIOD'].dt.year == 2018]\r\n",
        "p2_2019 = p2[p2['PERIOD'].dt.year == 2019]\r\n",
        "p2_2020 = p2[p2['PERIOD'].dt.year == 2020]"
      ],
      "execution_count": null,
      "outputs": []
    },
    {
      "cell_type": "code",
      "metadata": {
        "id": "uTUYrwb6qGmP",
        "colab": {
          "base_uri": "https://localhost:8080/"
        },
        "outputId": "2a4f0cea-50e6-4e85-ce3a-e3a108bf1e48"
      },
      "source": [
        "# Verifying Purpose\r\n",
        "\r\n",
        "print(\"Count of advertisement by Player 1 in 2018: \",p1_2018.shape)\r\n",
        "print(\"Count of advertisement by Player 1 in 2019: \",p1_2019.shape)\r\n",
        "print(\"Count of advertisement by Player 1 in 2020: \",p1_2020.shape)\r\n",
        "print(\"Count of advertisement by Player 2 in 2018: \",p2_2018.shape)\r\n",
        "print(\"Count of advertisement by Player 2 in 2019: \",p2_2019.shape)\r\n",
        "print(\"Count of advertisement by Player 1 in 2020: \",p2_2020.shape)"
      ],
      "execution_count": null,
      "outputs": [
        {
          "output_type": "stream",
          "text": [
            "Count of advertisement by Player 1 in 2018:  (9114, 8)\n",
            "Count of advertisement by Player 1 in 2019:  (10440, 8)\n",
            "Count of advertisement by Player 1 in 2020:  (6602, 8)\n",
            "Count of advertisement by Player 2 in 2018:  (16072, 8)\n",
            "Count of advertisement by Player 2 in 2019:  (18987, 8)\n",
            "Count of advertisement by Player 1 in 2020:  (9622, 8)\n"
          ],
          "name": "stdout"
        }
      ]
    },
    {
      "cell_type": "code",
      "metadata": {
        "id": "r9nKlwqSseTn"
      },
      "source": [
        "# Storing the length or count of advertiser by publication (Player 1 and Player 2), in 2018, 2019, 2020 (2021 data is not present).\r\n",
        "\r\n",
        "p1_2018_len = len(p1_2018)\r\n",
        "p1_2019_len = len(p1_2019)\r\n",
        "p1_2020_len = len(p1_2020)\r\n",
        "p2_2018_len = len(p2_2018)\r\n",
        "p2_2019_len = len(p2_2019)\r\n",
        "p2_2020_len = len(p2_2020)"
      ],
      "execution_count": null,
      "outputs": []
    },
    {
      "cell_type": "markdown",
      "metadata": {
        "id": "CsEsYIJi2hXz"
      },
      "source": [
        "Visualising the data year wise and publication wise"
      ]
    },
    {
      "cell_type": "code",
      "metadata": {
        "id": "5SapQvAkrI9C"
      },
      "source": [
        "# we plot bar graph using matplotlib library for visualizing the uptrend and downtrend of Player 1 and Player 2 in year 2018, 2019, 2020\r\n",
        "\r\n",
        "labels = ['2018', '2019', '2020'] # X_label\r\n",
        "p1_total_len = [p1_2018_len, p1_2019_len, p1_2020_len] # Player 1 data\r\n",
        "p2_total_len = [p2_2018_len, p2_2019_len, p2_2020_len] # Player 2 data"
      ],
      "execution_count": null,
      "outputs": []
    },
    {
      "cell_type": "code",
      "metadata": {
        "id": "h6GBsqv2szBP"
      },
      "source": [
        "x = np.arange(len(labels))  # the label locations\r\n",
        "width = 0.35"
      ],
      "execution_count": null,
      "outputs": []
    },
    {
      "cell_type": "code",
      "metadata": {
        "id": "WTuTfe5Avh8B",
        "colab": {
          "base_uri": "https://localhost:8080/",
          "height": 444
        },
        "outputId": "18d3a8a5-f5f6-4939-cd90-70f6b7587276"
      },
      "source": [
        "fig, ax = plt.subplots(figsize=(9, 7))\r\n",
        "player1 = ax.bar(x - width/2, p1_total_len, width, label='PLAYER 1')\r\n",
        "player2 = ax.bar(x + width/2, p2_total_len, width, label='PLAYER 2')\r\n",
        "\r\n",
        "# Add some text for labels, title and custom x-axis tick labels, etc.\r\n",
        "ax.set_ylabel('Count of ADVERTISER')\r\n",
        "ax.set_title('COUNT of ADVERTISER FROM EACH PUBLICATION OVER YEARS')\r\n",
        "ax.set_xticks(x)\r\n",
        "ax.set_xticklabels(labels)\r\n",
        "ax.legend()\r\n",
        "\r\n",
        "\r\n",
        "def autolabel(rects):\r\n",
        "    \"\"\"Attach a text label above each bar in *rects*, displaying its height.\"\"\"\r\n",
        "    for rect in rects:\r\n",
        "        height = rect.get_height()\r\n",
        "        ax.annotate('{}'.format(height),\r\n",
        "                    xy=(rect.get_x() + rect.get_width() / 2, height),\r\n",
        "                    xytext=(0, 3),  # 3 points vertical offset\r\n",
        "                    textcoords=\"offset points\",\r\n",
        "                    ha='center', va='baseline')\r\n",
        "\r\n",
        "\r\n",
        "autolabel(player1)\r\n",
        "autolabel(player2)\r\n",
        "\r\n",
        "# fig.tight_layout()\r\n",
        "# plt.figure(figsize=(50,50))\r\n",
        "\r\n",
        "plt.show()"
      ],
      "execution_count": null,
      "outputs": [
        {
          "output_type": "display_data",
          "data": {
            "image/png": "[encoded data removed]",
            "text/plain": [
              "<Figure size 648x504 with 1 Axes>"
            ]
          },
          "metadata": {
            "tags": [],
            "needs_background": "light"
          }
        }
      ]
    },
    {
      "cell_type": "markdown",
      "metadata": {
        "id": "p0dP2QEn2v_M"
      },
      "source": [
        "As a result we can see that, the up and down trend in the count of advertiser by each year.\r\n",
        "\r\n",
        "In 2018 Player 1 total advertisement count is 9114\r\n",
        "In 2018 Player 2 total advertisement count is 16072\r\n",
        "\r\n",
        "In 2019 Player 1 total advertisement count is 10440\r\n",
        "In 2019 Player 2 total advertisement count is 18987\r\n",
        "\r\n",
        "In 2020 Player 1 total advertisement count is 6602\r\n",
        "In 2018 Player 2 total advertisement count is 9622\r\n",
        "\r\n",
        "we found **UP TREND** from 2018 to 2019, and **DOWN TREND** from 2019 to 2020 for both Publication."
      ]
    },
    {
      "cell_type": "markdown",
      "metadata": {
        "id": "PY_P6ChetZeA"
      },
      "source": [
        "# TASK 2"
      ]
    },
    {
      "cell_type": "markdown",
      "metadata": {
        "id": "ZpMUIMpptgSU"
      },
      "source": [
        "### What are the highlights in the performance of Each Player? Identify 5 Super Categories & Advertisers where Each Player is strong. Support your answers with data findngs."
      ]
    },
    {
      "cell_type": "markdown",
      "metadata": {
        "id": "nKk-6U_QtwnP"
      },
      "source": [
        "#### 5 SUPER CATEGORY for both PUBLICATION I.E., PLAYER 1 and PLAYER 2"
      ]
    },
    {
      "cell_type": "code",
      "metadata": {
        "id": "RUoBtmK8tN86"
      },
      "source": [
        "# Create dataframe for each Publication\r\n",
        "\r\n",
        "df_p1 = df[df['PUBLICATION'] == 'PLAYER 1']\r\n",
        "df_p2 = df[df['PUBLICATION'] == 'PLAYER 2']"
      ],
      "execution_count": null,
      "outputs": []
    },
    {
      "cell_type": "code",
      "metadata": {
        "colab": {
          "base_uri": "https://localhost:8080/"
        },
        "id": "LuoZ3gzeuNn3",
        "outputId": "68b99c72-233b-4cfb-efae-9b410fb8d246"
      },
      "source": [
        "# TOP 5 SUPER CATEGORY where each PLAYER is Strong\r\n",
        "\r\n",
        "print(\"Top 5 strong SUPER CATEGORY of PLAYER 1:\\n\",df_p1['SUPER CATEGORY'].value_counts().head())\r\n",
        "print()\r\n",
        "print(\"Top 5 strong SUPER CATEGORY of PLAYER 2:\\n\",df_p2['SUPER CATEGORY'].value_counts().head())"
      ],
      "execution_count": null,
      "outputs": [
        {
          "output_type": "stream",
          "text": [
            "Top 5 strong SUPER CATEGORY of PLAYER 1:\n",
            " Education        7620\n",
            "Services         4145\n",
            "Auto             3889\n",
            "Miscellaneous    3243\n",
            "Retail           2686\n",
            "Name: SUPER CATEGORY, dtype: int64\n",
            "\n",
            "Top 5 strong SUPER CATEGORY of PLAYER 2:\n",
            " Education        13321\n",
            "Services          8555\n",
            "Auto              6112\n",
            "Retail            5106\n",
            "Miscellaneous     4800\n",
            "Name: SUPER CATEGORY, dtype: int64\n"
          ],
          "name": "stdout"
        }
      ]
    },
    {
      "cell_type": "code",
      "metadata": {
        "colab": {
          "base_uri": "https://localhost:8080/"
        },
        "id": "0O0i1G8Yueym",
        "outputId": "a1297d0c-8328-42bf-b42d-891544b2e181"
      },
      "source": [
        "# TOP 5 ADVERTISER where each PLAYER is Strong\r\n",
        "\r\n",
        "print(\"Top 5 strong ADVERTISER of PLAYER 1:\\n\",df_p1['ADVERTISER'].value_counts().head())\r\n",
        "print()\r\n",
        "print(\"Top 5 strong ADVERTISER of PLAYER 2:\\n\",df_p2['ADVERTISER'].value_counts().head())"
      ],
      "execution_count": null,
      "outputs": [
        {
          "output_type": "stream",
          "text": [
            "Top 5 strong ADVERTISER of PLAYER 1:\n",
            " Sarathy Auto Cars                  224\n",
            "Maruti Suzuki India Ltd            183\n",
            "Indus Motor Pvt Ltd                164\n",
            "Hercules Automobiles Intl P Ltd    138\n",
            "Hyundai Motor India Ltd            118\n",
            "Name: ADVERTISER, dtype: int64\n",
            "\n",
            "Top 5 strong ADVERTISER of PLAYER 2:\n",
            " Sarathy Auto Cars                245\n",
            "Indus Motor Pvt Ltd              206\n",
            "Maruti Suzuki India Ltd          194\n",
            "Tv Sundram Iyengar & Sons Ltd    180\n",
            "Hyundai Motor India Ltd          151\n",
            "Name: ADVERTISER, dtype: int64\n"
          ],
          "name": "stdout"
        }
      ]
    },
    {
      "cell_type": "markdown",
      "metadata": {
        "id": "0iN7SaCEwOnd"
      },
      "source": [
        "Strongness of any busines depends on the type and nature of business, in this usecase, the advertisor mater for publication i.e., Player 1 and Player 2.\r\n",
        "And the count of advertisement done by Player 1 and PLayer 2 for advertiser shows the strongness of Player 1 and Player 2.\r\n",
        "\r\n",
        "\r\n",
        "If we talk about the heigh lights, Player 2 is better perform in market compared to Player 1, and one major point is that both have their strongness in same SUPER CATEGORY."
      ]
    },
    {
      "cell_type": "markdown",
      "metadata": {
        "id": "c-VZFzt6xfao"
      },
      "source": [
        "# TASK 3"
      ]
    },
    {
      "cell_type": "markdown",
      "metadata": {
        "id": "5ICz6G0HxjhB"
      },
      "source": [
        "After examining the performance of both Players in FY 2020-21, what would be your recommendations to Each Player to achieve growth going forward? Establish your arguments with data points."
      ]
    },
    {
      "cell_type": "markdown",
      "metadata": {
        "id": "DAWHVfBDxw4H"
      },
      "source": [
        "##### we have to deal with FY 2020 - 2021 for this task, so we seperate out the dataset which contain year 2020 and 2021 in PERIOD column, but before we have to dive little inside the dataset "
      ]
    },
    {
      "cell_type": "code",
      "metadata": {
        "colab": {
          "base_uri": "https://localhost:8080/"
        },
        "id": "Iwyi3Eqav9ie",
        "outputId": "571f10d4-148c-4eb4-dd38-41d89bb19a5f"
      },
      "source": [
        "# create new dataframe for FY 2020 - 2021\r\n",
        "df_2021 = df[df['PERIOD'].dt.year == 2020 & 2021]\r\n",
        "df_2021.shape # as we can see that 16224 data point belongs to FY 2020 - 2021"
      ],
      "execution_count": null,
      "outputs": [
        {
          "output_type": "execute_result",
          "data": {
            "text/plain": [
              "(16224, 8)"
            ]
          },
          "metadata": {
            "tags": []
          },
          "execution_count": 49
        }
      ]
    },
    {
      "cell_type": "code",
      "metadata": {
        "colab": {
          "base_uri": "https://localhost:8080/"
        },
        "id": "Wx3SMsr9x4af",
        "outputId": "53cda48a-e2c3-4910-fe91-01bb26a28573"
      },
      "source": [
        "df_2021['PUBLICATION'].value_counts()"
      ],
      "execution_count": null,
      "outputs": [
        {
          "output_type": "execute_result",
          "data": {
            "text/plain": [
              "PLAYER 2    9622\n",
              "PLAYER 1    6602\n",
              "Name: PUBLICATION, dtype: int64"
            ]
          },
          "metadata": {
            "tags": []
          },
          "execution_count": 50
        }
      ]
    },
    {
      "cell_type": "markdown",
      "metadata": {
        "id": "cVFrYBjAyBzs"
      },
      "source": [
        "##### From above we see that, after examining the performance for FY 2020 -2021 for both player, Player 2 perform well or do more advertisement compared to player 1 in 2020 - 2021."
      ]
    },
    {
      "cell_type": "code",
      "metadata": {
        "id": "AOulrWt-x-wf"
      },
      "source": [
        "# seperate out each publication in dataframe\r\n",
        "\r\n",
        "df_2021_p1 = df_2021[df_2021['PUBLICATION'] == 'PLAYER 1']\r\n",
        "df_2021_p2 = df_2021[df_2021['PUBLICATION'] == 'PLAYER 2']"
      ],
      "execution_count": null,
      "outputs": []
    },
    {
      "cell_type": "code",
      "metadata": {
        "colab": {
          "base_uri": "https://localhost:8080/"
        },
        "id": "xTIFyacmyWoH",
        "outputId": "572b19ae-d2ca-422b-afdf-7a92e9c76fae"
      },
      "source": [
        "print(\"Top SUPER CATEGORY of Player 1 in FY 2020 - 2021:\\n\",df_2021_p1['SUPER CATEGORY'].value_counts().head())\r\n",
        "print()\r\n",
        "print(\"Top SUPER CATEGORY of Player 2 in FY 2020 - 2021:\\n\",df_2021_p2['SUPER CATEGORY'].value_counts().head())"
      ],
      "execution_count": null,
      "outputs": [
        {
          "output_type": "stream",
          "text": [
            "Top SUPER CATEGORY of Player 1 in FY 2020 - 2021:\n",
            " Education        1732\n",
            "Auto             1038\n",
            "Services         1007\n",
            "Miscellaneous     900\n",
            "Retail            613\n",
            "Name: SUPER CATEGORY, dtype: int64\n",
            "\n",
            "Top SUPER CATEGORY of Player 2 in FY 2020 - 2021:\n",
            " Education        2694\n",
            "Services         1790\n",
            "Auto             1298\n",
            "Miscellaneous    1134\n",
            "Retail           1063\n",
            "Name: SUPER CATEGORY, dtype: int64\n"
          ],
          "name": "stdout"
        }
      ]
    },
    {
      "cell_type": "markdown",
      "metadata": {
        "id": "1utgXG3Zy2d_"
      },
      "source": [
        "After examine the complete data of each publication for FY 2020 and 2021, if we see the SUPER CATEGORY then we will come with a clear conclusion that \"EDUCATION, SERVICE, AUTO, MISCELLANEOUS, RETAIL\" are the sector who spend more on advertisement. And we also found that both publication geeting more advertisement IN FY 2020 - 2021 from these 5 sector."
      ]
    },
    {
      "cell_type": "code",
      "metadata": {
        "colab": {
          "base_uri": "https://localhost:8080/"
        },
        "id": "0PRTak3LyfnB",
        "outputId": "caa8c0cc-6125-4a99-c70f-c60532166874"
      },
      "source": [
        "print(df_2021_p1['ADVERTISER'].value_counts().head())\r\n",
        "print()\r\n",
        "print()\r\n",
        "print(df_2021_p2['ADVERTISER'].value_counts().head())"
      ],
      "execution_count": null,
      "outputs": [
        {
          "output_type": "stream",
          "text": [
            "Sarathy Auto Cars          66\n",
            "Maruti Suzuki India Ltd    48\n",
            "Indus Motor Pvt Ltd        38\n",
            "Dept Of Lotteries (Ker)    38\n",
            "Hyundai Motor India Ltd    37\n",
            "Name: ADVERTISER, dtype: int64\n",
            "\n",
            "\n",
            "Sarathy Auto Cars          74\n",
            "Maruti Suzuki India Ltd    53\n",
            "Indus Motor Pvt Ltd        46\n",
            "Tata Motors Ltd            40\n",
            "Dept Of Lotteries (Ker)    37\n",
            "Name: ADVERTISER, dtype: int64\n"
          ],
          "name": "stdout"
        }
      ]
    },
    {
      "cell_type": "markdown",
      "metadata": {
        "id": "wrPnrY9czQ-y"
      },
      "source": [
        "As we saw and conclude the top 5 super category, so of course the advertiser who advertise more, belongs to that 5 super category, as we find that most of the top advertiser is belongs to automobile sector."
      ]
    },
    {
      "cell_type": "markdown",
      "metadata": {
        "id": "D-xmSxbCzmmA"
      },
      "source": [
        "My suggestion after seeing and examine the data for mainting the growth growing forward is to invest more time and focus on these top 5 categories, i am not talking about domain specific but i found that the luxeries item is more profitable like automobile, or in todays world education is also a kind of good business where the profit is very much.\r\n",
        "Every one wants to spend life with luxary and for that education play very important role.\r\n",
        "So i suggest to focus more on these clients for growth.\r\n",
        "\r\n",
        "Apart from that if we talk about trend then in business trends depends on market, but growth of company (PLAYER 1 AND PLAYER 2) is not depend on the trend.\r\n",
        "Trend is for small interval of time, growth is for long time."
      ]
    },
    {
      "cell_type": "markdown",
      "metadata": {
        "id": "kE0AOD7D04t4"
      },
      "source": [
        "**NOTE** I attached a pdf in mail, where i analyze the data for trend not for growth....trends for both publication goes down from jan to mar (in first quadrent of year) and to find out the reason we have to analyze the market and customer trend during that period."
      ]
    },
    {
      "cell_type": "markdown",
      "metadata": {
        "id": "pFmSXHYYzqAu"
      },
      "source": [
        "#TASK 4"
      ]
    },
    {
      "cell_type": "code",
      "metadata": {
        "colab": {
          "base_uri": "https://localhost:8080/"
        },
        "id": "nykcH5eDzEUV",
        "outputId": "6e288d5d-619e-43ae-fe8f-e0edcbab22c3"
      },
      "source": [
        "# We have to deal only with player 1 in task 4, so it's better to seperate out all data point which contain value i.e., Player 1 in itself from original dataset\r\n",
        "p1_df = df[df['PUBLICATION'] == 'PLAYER 1']\r\n",
        "p1_df.shape\r\n",
        "\r\n",
        "# As we can that out of 70837 there are 26156 data point which belongs to PLAYER 1"
      ],
      "execution_count": null,
      "outputs": [
        {
          "output_type": "execute_result",
          "data": {
            "text/plain": [
              "(26156, 8)"
            ]
          },
          "metadata": {
            "tags": []
          },
          "execution_count": 58
        }
      ]
    },
    {
      "cell_type": "code",
      "metadata": {
        "colab": {
          "base_uri": "https://localhost:8080/"
        },
        "id": "pMYXQ1RSz0FT",
        "outputId": "a61bb434-f1c5-423e-8eaf-54e9be815869"
      },
      "source": [
        "# we have to select 10 advertisor of PLAYER 1 which having extended great support to its Publication\r\n",
        "\r\n",
        "# we can simply do that by the no of advertisement offer by advertisor to PLAYER 1\r\n",
        "top10_adve_p1 = p1_df['ADVERTISER'].value_counts() # value_counts() display result in descending order\r\n",
        "print(top10_adve_p1.head(10)) # these are the top 10 advertiser who provide number of advertisement to PLAYER 1"
      ],
      "execution_count": null,
      "outputs": [
        {
          "output_type": "stream",
          "text": [
            "Sarathy Auto Cars                  224\n",
            "Maruti Suzuki India Ltd            183\n",
            "Indus Motor Pvt Ltd                164\n",
            "Hercules Automobiles Intl P Ltd    138\n",
            "Hyundai Motor India Ltd            118\n",
            "Gen-Services                       108\n",
            "Dept Of Lotteries (Ker)            104\n",
            "Tv Sundram Iyengar & Sons Ltd      104\n",
            "Kannankandy Sales Corporation       96\n",
            "Avg Motors                          81\n",
            "Name: ADVERTISER, dtype: int64\n"
          ],
          "name": "stdout"
        }
      ]
    },
    {
      "cell_type": "markdown",
      "metadata": {
        "id": "daKDF9UYz6Kc"
      },
      "source": [
        "I Select the above 10 advertiser having great support to player 1 and it's because of the above 10 advertiser offered highest number of advertisement to player 1 compared to other, and the client or customer(in this case advertoiser) who buys or avail our product or services more compared to other customer is always be the top periority customer in customer list."
      ]
    },
    {
      "cell_type": "markdown",
      "metadata": {
        "id": "SDNaHuh1z8Ir"
      },
      "source": [
        "# Thanks To You, if you need something in a different way, please feel free to share your requirements."
      ]
    },
    {
      "cell_type": "code",
      "metadata": {
        "id": "sQLOnbRyz2Yc"
      },
      "source": [
        ""
      ],
      "execution_count": null,
      "outputs": []
    }
  ]
}